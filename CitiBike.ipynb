{
 "cells": [
  {
   "cell_type": "code",
   "execution_count": 13,
   "source": [
    "import pandas as pd\r\n",
    "import glob\r\n",
    "import os"
   ],
   "outputs": [],
   "metadata": {}
  },
  {
   "cell_type": "code",
   "execution_count": 14,
   "source": [
    "# Set directory\r\n",
    "os.chdir(r'C:\\Users\\c_ris\\Documents\\Citi-Bike-Analytics\\RawData')\r\n",
    "\r\n",
    "# Use glob to match csv for files by year 2018-2020\r\n",
    "extension = 'csv'\r\n",
    "all_2018_filenames = [i for i in glob.glob('JC-2018*.{}'.format(extension))]\r\n",
    "all_2019_filenames = [i for i in glob.glob('JC-2019*.{}'.format(extension))]\r\n",
    "all_2020_filenames = [i for i in glob.glob('JC-2020*.{}'.format(extension))]"
   ],
   "outputs": [],
   "metadata": {}
  },
  {
   "cell_type": "code",
   "execution_count": 15,
   "source": [
    "# Combine files by year\r\n",
    "combined_2018_csv = pd.concat([pd.read_csv(f) for f in all_2018_filenames])\r\n",
    "combined_2019_csv = pd.concat([pd.read_csv(f) for f in all_2019_filenames])\r\n",
    "combined_2020_csv = pd.concat([pd.read_csv(f) for f in all_2020_filenames])\r\n",
    "\r\n",
    "# Export combined yearly data to new csv\r\n",
    "combined_2018_csv.to_csv(\"2018_combined.csv\", index=False, encoding = 'utf-8-sig')\r\n",
    "combined_2019_csv.to_csv(\"2019_combined.csv\", index=False, encoding = 'utf-8-sig')\r\n",
    "combined_2020_csv.to_csv(\"2020_combined.csv\", index=False, encoding = 'utf-8-sig')"
   ],
   "outputs": [],
   "metadata": {}
  },
  {
   "cell_type": "code",
   "execution_count": 16,
   "source": [
    "# Read in csv to change gender to show male/female/N/A\r\n",
    "df_2018 = pd.read_csv(\"2018_combined.csv\")\r\n",
    "df_2019 = pd.read_csv(\"2019_combined.csv\")\r\n",
    "df_2020 = pd.read_csv(\"2020_combined.csv\")\r\n"
   ],
   "outputs": [],
   "metadata": {}
  },
  {
   "cell_type": "code",
   "execution_count": 17,
   "source": [
    "# Change gender to names\r\n",
    "df_2018[\"gender\"].replace({0:\"Unknown\", 1: \"Male\", 2: \"Female\"}, inplace=True)\r\n",
    "df_2019[\"gender\"].replace({0:\"Unknown\", 1: \"Male\", 2: \"Female\"}, inplace=True)\r\n",
    "df_2020[\"gender\"].replace({0:\"Unknown\", 1: \"Male\", 2: \"Female\"}, inplace=True)\r\n"
   ],
   "outputs": [],
   "metadata": {}
  },
  {
   "cell_type": "code",
   "execution_count": 18,
   "source": [
    "# Export to new csv\r\n",
    "df_2018.to_csv(\"2018_final.csv\", index=False, encoding = 'utf-8-sig')\r\n",
    "df_2019.to_csv(\"2019_final.csv\", index=False, encoding = 'utf-8-sig')\r\n",
    "df_2020.to_csv(\"2020_final.csv\", index=False, encoding = 'utf-8-sig')"
   ],
   "outputs": [],
   "metadata": {}
  },
  {
   "cell_type": "code",
   "execution_count": 19,
   "source": [
    "# Combine past 3 complete years\r\n",
    "all_filenames = [i for i in glob.glob('*final.{}'.format(extension))]\r\n",
    "combined_csv = pd.concat([pd.read_csv(f) for f in all_filenames])\r\n",
    "combined_csv.to_csv(\"all_final.csv\", index=False, encoding = 'utf-8-sig')"
   ],
   "outputs": [],
   "metadata": {}
  }
 ],
 "metadata": {
  "orig_nbformat": 4,
  "language_info": {
   "name": "python",
   "version": "3.6.13",
   "mimetype": "text/x-python",
   "codemirror_mode": {
    "name": "ipython",
    "version": 3
   },
   "pygments_lexer": "ipython3",
   "nbconvert_exporter": "python",
   "file_extension": ".py"
  },
  "kernelspec": {
   "name": "python3",
   "display_name": "Python 3.6.13 64-bit ('PythonData': conda)"
  },
  "interpreter": {
   "hash": "2d9cfea98c24f9fe45dc74017fee9aee343bdf68e5b03f34f00774f8f857f24a"
  }
 },
 "nbformat": 4,
 "nbformat_minor": 2
}